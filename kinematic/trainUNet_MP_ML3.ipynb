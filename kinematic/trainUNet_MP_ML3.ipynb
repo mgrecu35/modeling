{
 "cells": [
  {
   "cell_type": "code",
   "execution_count": 1,
   "metadata": {},
   "outputs": [],
   "source": [
    "#ds=xr.Dataset({'qc':qcXR,'qr':qrXR,'qi':qiXR,'qs':qsXR,'qg':qgXR,'qns':qnsXR,'qng':qngXR,'qnr':qnrXR,'qni':qniXR,'qv':qvXR,     'press':pressXR,'temp':tempXR,'dz':dzXR,'qc_tend':qc_tendXR,'qr_tend':qr_tendXR,'qi_tend':qi_tendXR,'qs_tend':qs_tendXR,'qg_tend':qg_tendXR,'qns_tend':qns_tendXR,'qng_tend':qng_tendXR,'qnr_tend':qnr_tendXR,'qni_tend':qni_tendXR,'qv_tend':qv_tendXR,'temp_tend':temp_tendXR})\n",
    "\n",
    "from netCDF4 import Dataset\n",
    "import netCDF4 as nc\n",
    "import numpy as np\n",
    "import matplotlib.pyplot as plt\n",
    "import matplotlib.colors as colors\n",
    "\n",
    "with nc.Dataset(\"trainingData.nc\") as fh:\n",
    "    qc=fh.variables['qc'][:]\n",
    "    qr=fh.variables['qr'][:]\n",
    "    qi=fh.variables['qi'][:]\n",
    "    qs=fh.variables['qs'][:]\n",
    "    qg=fh.variables['qg'][:]\n",
    "    qns=fh.variables['qns'][:]\n",
    "    qng=fh.variables['qng'][:]\n",
    "    qnr=fh.variables['qnr'][:]\n",
    "    qni=fh.variables['qni'][:]\n",
    "    qv=fh.variables['qv'][:]\n",
    "    press=fh.variables['press'][:]\n",
    "    temp=fh.variables['temp'][:]\n",
    "    dz=fh.variables['dz'][:]\n",
    "    qc_tend=fh.variables['qc_tend'][:]\n",
    "    qr_tend=fh.variables['qr_tend'][:]\n",
    "    qi_tend=fh.variables['qi_tend'][:]\n",
    "    qs_tend=fh.variables['qs_tend'][:]\n",
    "    qg_tend=fh.variables['qg_tend'][:]\n",
    "    qns_tend=fh.variables['qns_tend'][:]\n",
    "    qng_tend=fh.variables['qng_tend'][:]\n",
    "    qnr_tend=fh.variables['qnr_tend'][:]\n",
    "    qni_tend=fh.variables['qni_tend'][:]\n",
    "    qv_tend=fh.variables['qv_tend'][:]\n",
    "    temp_tend=fh.variables['temp_tend'][:]\n",
    "    nt,nz=qc.shape\n",
    "    "
   ]
  },
  {
   "cell_type": "code",
   "execution_count": 2,
   "metadata": {},
   "outputs": [],
   "source": [
    "#scale variables using the standard scaler\n",
    "from sklearn.preprocessing import StandardScaler\n",
    "scaler=StandardScaler()\n",
    "\n",
    "inputVars=[\"qc\",\"qr\",\"qi\",\"qs\",\"qg\",\"qv\",\"press\",\"temp\",\"dz\"]\n",
    "outputVars=[\"qc_tend\",\"qr_tend\",\"qi_tend\",\"qs_tend\",\"qg_tend\",\"qv_tend\",\"temp_tend\"]\n",
    "inputData={\"qc\":qc,\"qr\":qr,\"qi\":qi,\"qs\":qs,\"qg\":qg,\"qns\":qns,\"qng\":qng,\"qnr\":qnr,\"qni\":qni,\"qv\":qv,\"press\":press,\"temp\":temp,\"dz\":dz}\n",
    "outputData={\"qc_tend\":qc_tend,\"qr_tend\":qr_tend,\"qi_tend\":qi_tend,\"qs_tend\":qs_tend,\"qg_tend\":qg_tend,\"qns_tend\":qns_tend,\"qng_tend\":qng_tend,\"qnr_tend\":qnr_tend,\"qni_tend\":qni_tend,\"qv_tend\":qv_tend,\"temp_tend\":temp_tend}\n",
    "inputDataScaled={}\n",
    "outputDataScaled={}\n",
    "inputScalers={}\n",
    "outputScalers={}\n",
    "for var in inputVars:\n",
    "    vmean=inputData[var].mean()\n",
    "    vstd=inputData[var].std()\n",
    "    inputDataScaled[var]=(inputData[var]-vmean)/vstd\n",
    "    inputScalers[var]=(vmean,vstd)\n",
    "for var in outputVars:\n",
    "    vmean=outputData[var].mean()\n",
    "    vstd=outputData[var].std()\n",
    "    outputDataScaled[var]=(outputData[var]-vmean)/vstd\n",
    "    outputScalers[var]=(vmean,vstd)"
   ]
  },
  {
   "cell_type": "code",
   "execution_count": 3,
   "metadata": {},
   "outputs": [
    {
     "name": "stdout",
     "output_type": "stream",
     "text": [
      "(684284, 72, 9) (684284, 72, 7)\n"
     ]
    }
   ],
   "source": [
    "inputData=np.array([inputDataScaled[var] for var in inputVars]).T\n",
    "outputData=np.array([outputDataScaled[var] for var in outputVars]).T\n",
    "inputData=np.swapaxes(inputData,0,1)\n",
    "outputData=np.swapaxes(outputData,0,1)\n",
    "print(inputData.shape,outputData.shape)\n"
   ]
  },
  {
   "cell_type": "code",
   "execution_count": 4,
   "metadata": {},
   "outputs": [
    {
     "name": "stdout",
     "output_type": "stream",
     "text": [
      "15450.283\n"
     ]
    }
   ],
   "source": [
    "print(dz[0,0:64].sum())"
   ]
  },
  {
   "cell_type": "code",
   "execution_count": 5,
   "metadata": {},
   "outputs": [],
   "source": [
    "from sklearn.model_selection import train_test_split\n",
    "X_train,X_test,y_train,y_test=train_test_split(inputData,outputData,test_size=0.4,random_state=42)"
   ]
  },
  {
   "cell_type": "code",
   "execution_count": 6,
   "metadata": {},
   "outputs": [
    {
     "name": "stdout",
     "output_type": "stream",
     "text": [
      "(410570, 72, 9) (273714, 72, 9) (410570, 72, 7) (273714, 72, 7)\n"
     ]
    }
   ],
   "source": [
    "print(X_train.shape,X_test.shape,y_train.shape,y_test.shape)"
   ]
  },
  {
   "cell_type": "code",
   "execution_count": 7,
   "metadata": {},
   "outputs": [],
   "source": [
    "import pickle\n",
    "pickle.dump(inputScalers,open(\"inputScalers_1M_cell.pkl\",\"wb\"))\n",
    "pickle.dump(outputScalers,open(\"outputScalers_1M_cell.pkl\",\"wb\"))"
   ]
  },
  {
   "cell_type": "code",
   "execution_count": 42,
   "metadata": {},
   "outputs": [],
   "source": [
    "#define dense model\n",
    "from keras.models import Sequential\n",
    "from keras.layers import Dense,Activation,Dropout\n",
    "from keras.optimizers import SGD\n",
    "from keras.callbacks import EarlyStopping\n",
    "from keras import regularizers\n",
    "from tensorflow.keras.layers import Input, Dense\n",
    "import tensorflow as tf\n",
    "\n",
    "model_gc0=Sequential()\n",
    "model_gc0.add(Dense(64,input_dim=9,activation='relu'))\n",
    "#model_gc.add(Dense(64,activation='relu'))\n",
    "model_gc0.add(Dense(7,activation='linear'))\n",
    "\n",
    "from keras.models import load_model\n",
    "model_gc0=load_model(\"unet1D_MP_model_1M_gc.h5\")\n",
    "\n",
    "def create1Dmodel(input_shape):\n",
    "    input_data = Input(shape=input_shape)\n",
    "    out=[]\n",
    "    for i in range(36):\n",
    "        out.append(model_gc0(input_data[:,i,:]))\n",
    "    main_model_output = tf.stack(out,axis=1)\n",
    "    model = tf.keras.Model(inputs=input_data, outputs=main_model_output)\n",
    "    return model\n"
   ]
  },
  {
   "cell_type": "code",
   "execution_count": 47,
   "metadata": {},
   "outputs": [
    {
     "name": "stdout",
     "output_type": "stream",
     "text": [
      "Model: \"model_5\"\n",
      "__________________________________________________________________________________________________\n",
      " Layer (type)                Output Shape                 Param #   Connected to                  \n",
      "==================================================================================================\n",
      " input_6 (InputLayer)        [(None, 72, 9)]              0         []                            \n",
      "                                                                                                  \n",
      " tf.__operators__.getitem_1  (None, 9)                    0         ['input_6[0][0]']             \n",
      " 80 (SlicingOpLambda)                                                                             \n",
      "                                                                                                  \n",
      " tf.__operators__.getitem_1  (None, 9)                    0         ['input_6[0][0]']             \n",
      " 81 (SlicingOpLambda)                                                                             \n",
      "                                                                                                  \n",
      " tf.__operators__.getitem_1  (None, 9)                    0         ['input_6[0][0]']             \n",
      " 82 (SlicingOpLambda)                                                                             \n",
      "                                                                                                  \n",
      " tf.__operators__.getitem_1  (None, 9)                    0         ['input_6[0][0]']             \n",
      " 83 (SlicingOpLambda)                                                                             \n",
      "                                                                                                  \n",
      " tf.__operators__.getitem_1  (None, 9)                    0         ['input_6[0][0]']             \n",
      " 84 (SlicingOpLambda)                                                                             \n",
      "                                                                                                  \n",
      " tf.__operators__.getitem_1  (None, 9)                    0         ['input_6[0][0]']             \n",
      " 85 (SlicingOpLambda)                                                                             \n",
      "                                                                                                  \n",
      " tf.__operators__.getitem_1  (None, 9)                    0         ['input_6[0][0]']             \n",
      " 86 (SlicingOpLambda)                                                                             \n",
      "                                                                                                  \n",
      " tf.__operators__.getitem_1  (None, 9)                    0         ['input_6[0][0]']             \n",
      " 87 (SlicingOpLambda)                                                                             \n",
      "                                                                                                  \n",
      " tf.__operators__.getitem_1  (None, 9)                    0         ['input_6[0][0]']             \n",
      " 88 (SlicingOpLambda)                                                                             \n",
      "                                                                                                  \n",
      " tf.__operators__.getitem_1  (None, 9)                    0         ['input_6[0][0]']             \n",
      " 89 (SlicingOpLambda)                                                                             \n",
      "                                                                                                  \n",
      " tf.__operators__.getitem_1  (None, 9)                    0         ['input_6[0][0]']             \n",
      " 90 (SlicingOpLambda)                                                                             \n",
      "                                                                                                  \n",
      " tf.__operators__.getitem_1  (None, 9)                    0         ['input_6[0][0]']             \n",
      " 91 (SlicingOpLambda)                                                                             \n",
      "                                                                                                  \n",
      " tf.__operators__.getitem_1  (None, 9)                    0         ['input_6[0][0]']             \n",
      " 92 (SlicingOpLambda)                                                                             \n",
      "                                                                                                  \n",
      " tf.__operators__.getitem_1  (None, 9)                    0         ['input_6[0][0]']             \n",
      " 93 (SlicingOpLambda)                                                                             \n",
      "                                                                                                  \n",
      " tf.__operators__.getitem_1  (None, 9)                    0         ['input_6[0][0]']             \n",
      " 94 (SlicingOpLambda)                                                                             \n",
      "                                                                                                  \n",
      " tf.__operators__.getitem_1  (None, 9)                    0         ['input_6[0][0]']             \n",
      " 95 (SlicingOpLambda)                                                                             \n",
      "                                                                                                  \n",
      " tf.__operators__.getitem_1  (None, 9)                    0         ['input_6[0][0]']             \n",
      " 96 (SlicingOpLambda)                                                                             \n",
      "                                                                                                  \n",
      " tf.__operators__.getitem_1  (None, 9)                    0         ['input_6[0][0]']             \n",
      " 97 (SlicingOpLambda)                                                                             \n",
      "                                                                                                  \n",
      " tf.__operators__.getitem_1  (None, 9)                    0         ['input_6[0][0]']             \n",
      " 98 (SlicingOpLambda)                                                                             \n",
      "                                                                                                  \n",
      " tf.__operators__.getitem_1  (None, 9)                    0         ['input_6[0][0]']             \n",
      " 99 (SlicingOpLambda)                                                                             \n",
      "                                                                                                  \n",
      " tf.__operators__.getitem_2  (None, 9)                    0         ['input_6[0][0]']             \n",
      " 00 (SlicingOpLambda)                                                                             \n",
      "                                                                                                  \n",
      " tf.__operators__.getitem_2  (None, 9)                    0         ['input_6[0][0]']             \n",
      " 01 (SlicingOpLambda)                                                                             \n",
      "                                                                                                  \n",
      " tf.__operators__.getitem_2  (None, 9)                    0         ['input_6[0][0]']             \n",
      " 02 (SlicingOpLambda)                                                                             \n",
      "                                                                                                  \n",
      " tf.__operators__.getitem_2  (None, 9)                    0         ['input_6[0][0]']             \n",
      " 03 (SlicingOpLambda)                                                                             \n",
      "                                                                                                  \n",
      " tf.__operators__.getitem_2  (None, 9)                    0         ['input_6[0][0]']             \n",
      " 04 (SlicingOpLambda)                                                                             \n",
      "                                                                                                  \n",
      " tf.__operators__.getitem_2  (None, 9)                    0         ['input_6[0][0]']             \n",
      " 05 (SlicingOpLambda)                                                                             \n",
      "                                                                                                  \n",
      " tf.__operators__.getitem_2  (None, 9)                    0         ['input_6[0][0]']             \n",
      " 06 (SlicingOpLambda)                                                                             \n",
      "                                                                                                  \n",
      " tf.__operators__.getitem_2  (None, 9)                    0         ['input_6[0][0]']             \n",
      " 07 (SlicingOpLambda)                                                                             \n",
      "                                                                                                  \n",
      " tf.__operators__.getitem_2  (None, 9)                    0         ['input_6[0][0]']             \n",
      " 08 (SlicingOpLambda)                                                                             \n",
      "                                                                                                  \n",
      " tf.__operators__.getitem_2  (None, 9)                    0         ['input_6[0][0]']             \n",
      " 09 (SlicingOpLambda)                                                                             \n",
      "                                                                                                  \n",
      " tf.__operators__.getitem_2  (None, 9)                    0         ['input_6[0][0]']             \n",
      " 10 (SlicingOpLambda)                                                                             \n",
      "                                                                                                  \n",
      " tf.__operators__.getitem_2  (None, 9)                    0         ['input_6[0][0]']             \n",
      " 11 (SlicingOpLambda)                                                                             \n",
      "                                                                                                  \n",
      " tf.__operators__.getitem_2  (None, 9)                    0         ['input_6[0][0]']             \n",
      " 12 (SlicingOpLambda)                                                                             \n",
      "                                                                                                  \n",
      " tf.__operators__.getitem_2  (None, 9)                    0         ['input_6[0][0]']             \n",
      " 13 (SlicingOpLambda)                                                                             \n",
      "                                                                                                  \n",
      " tf.__operators__.getitem_2  (None, 9)                    0         ['input_6[0][0]']             \n",
      " 14 (SlicingOpLambda)                                                                             \n",
      "                                                                                                  \n",
      " tf.__operators__.getitem_2  (None, 9)                    0         ['input_6[0][0]']             \n",
      " 15 (SlicingOpLambda)                                                                             \n",
      "                                                                                                  \n",
      " sequential (Sequential)     (None, 7)                    5255      ['tf.__operators__.getitem_180\n",
      "                                                                    [0][0]',                      \n",
      "                                                                     'tf.__operators__.getitem_181\n",
      "                                                                    [0][0]',                      \n",
      "                                                                     'tf.__operators__.getitem_182\n",
      "                                                                    [0][0]',                      \n",
      "                                                                     'tf.__operators__.getitem_183\n",
      "                                                                    [0][0]',                      \n",
      "                                                                     'tf.__operators__.getitem_184\n",
      "                                                                    [0][0]',                      \n",
      "                                                                     'tf.__operators__.getitem_185\n",
      "                                                                    [0][0]',                      \n",
      "                                                                     'tf.__operators__.getitem_186\n",
      "                                                                    [0][0]',                      \n",
      "                                                                     'tf.__operators__.getitem_187\n",
      "                                                                    [0][0]',                      \n",
      "                                                                     'tf.__operators__.getitem_188\n",
      "                                                                    [0][0]',                      \n",
      "                                                                     'tf.__operators__.getitem_189\n",
      "                                                                    [0][0]',                      \n",
      "                                                                     'tf.__operators__.getitem_190\n",
      "                                                                    [0][0]',                      \n",
      "                                                                     'tf.__operators__.getitem_191\n",
      "                                                                    [0][0]',                      \n",
      "                                                                     'tf.__operators__.getitem_192\n",
      "                                                                    [0][0]',                      \n",
      "                                                                     'tf.__operators__.getitem_193\n",
      "                                                                    [0][0]',                      \n",
      "                                                                     'tf.__operators__.getitem_194\n",
      "                                                                    [0][0]',                      \n",
      "                                                                     'tf.__operators__.getitem_195\n",
      "                                                                    [0][0]',                      \n",
      "                                                                     'tf.__operators__.getitem_196\n",
      "                                                                    [0][0]',                      \n",
      "                                                                     'tf.__operators__.getitem_197\n",
      "                                                                    [0][0]',                      \n",
      "                                                                     'tf.__operators__.getitem_198\n",
      "                                                                    [0][0]',                      \n",
      "                                                                     'tf.__operators__.getitem_199\n",
      "                                                                    [0][0]',                      \n",
      "                                                                     'tf.__operators__.getitem_200\n",
      "                                                                    [0][0]',                      \n",
      "                                                                     'tf.__operators__.getitem_201\n",
      "                                                                    [0][0]',                      \n",
      "                                                                     'tf.__operators__.getitem_202\n",
      "                                                                    [0][0]',                      \n",
      "                                                                     'tf.__operators__.getitem_203\n",
      "                                                                    [0][0]',                      \n",
      "                                                                     'tf.__operators__.getitem_204\n",
      "                                                                    [0][0]',                      \n",
      "                                                                     'tf.__operators__.getitem_205\n",
      "                                                                    [0][0]',                      \n",
      "                                                                     'tf.__operators__.getitem_206\n",
      "                                                                    [0][0]',                      \n",
      "                                                                     'tf.__operators__.getitem_207\n",
      "                                                                    [0][0]',                      \n",
      "                                                                     'tf.__operators__.getitem_208\n",
      "                                                                    [0][0]',                      \n",
      "                                                                     'tf.__operators__.getitem_209\n",
      "                                                                    [0][0]',                      \n",
      "                                                                     'tf.__operators__.getitem_210\n",
      "                                                                    [0][0]',                      \n",
      "                                                                     'tf.__operators__.getitem_211\n",
      "                                                                    [0][0]',                      \n",
      "                                                                     'tf.__operators__.getitem_212\n",
      "                                                                    [0][0]',                      \n",
      "                                                                     'tf.__operators__.getitem_213\n",
      "                                                                    [0][0]',                      \n",
      "                                                                     'tf.__operators__.getitem_214\n",
      "                                                                    [0][0]',                      \n",
      "                                                                     'tf.__operators__.getitem_215\n",
      "                                                                    [0][0]']                      \n",
      "                                                                                                  \n",
      " tf.stack_5 (TFOpLambda)     (None, 36, 7)                0         ['sequential[36][0]',         \n",
      "                                                                     'sequential[37][0]',         \n",
      "                                                                     'sequential[38][0]',         \n",
      "                                                                     'sequential[39][0]',         \n",
      "                                                                     'sequential[40][0]',         \n",
      "                                                                     'sequential[41][0]',         \n",
      "                                                                     'sequential[42][0]',         \n",
      "                                                                     'sequential[43][0]',         \n",
      "                                                                     'sequential[44][0]',         \n",
      "                                                                     'sequential[45][0]',         \n",
      "                                                                     'sequential[46][0]',         \n",
      "                                                                     'sequential[47][0]',         \n",
      "                                                                     'sequential[48][0]',         \n",
      "                                                                     'sequential[49][0]',         \n",
      "                                                                     'sequential[50][0]',         \n",
      "                                                                     'sequential[51][0]',         \n",
      "                                                                     'sequential[52][0]',         \n",
      "                                                                     'sequential[53][0]',         \n",
      "                                                                     'sequential[54][0]',         \n",
      "                                                                     'sequential[55][0]',         \n",
      "                                                                     'sequential[56][0]',         \n",
      "                                                                     'sequential[57][0]',         \n",
      "                                                                     'sequential[58][0]',         \n",
      "                                                                     'sequential[59][0]',         \n",
      "                                                                     'sequential[60][0]',         \n",
      "                                                                     'sequential[61][0]',         \n",
      "                                                                     'sequential[62][0]',         \n",
      "                                                                     'sequential[63][0]',         \n",
      "                                                                     'sequential[64][0]',         \n",
      "                                                                     'sequential[65][0]',         \n",
      "                                                                     'sequential[66][0]',         \n",
      "                                                                     'sequential[67][0]',         \n",
      "                                                                     'sequential[68][0]',         \n",
      "                                                                     'sequential[69][0]',         \n",
      "                                                                     'sequential[70][0]',         \n",
      "                                                                     'sequential[71][0]']         \n",
      "                                                                                                  \n",
      "==================================================================================================\n",
      "Total params: 5255 (20.53 KB)\n",
      "Trainable params: 5255 (20.53 KB)\n",
      "Non-trainable params: 0 (0.00 Byte)\n",
      "__________________________________________________________________________________________________\n"
     ]
    }
   ],
   "source": [
    "model=create1Dmodel((72,9))\n",
    "model.summary()\n",
    "test=model(X_train[0:1,:72,:])"
   ]
  },
  {
   "cell_type": "code",
   "execution_count": 15,
   "metadata": {},
   "outputs": [
    {
     "name": "stdout",
     "output_type": "stream",
     "text": [
      "(1, 72, 7)\n"
     ]
    }
   ],
   "source": [
    "print(test.shape)"
   ]
  },
  {
   "cell_type": "code",
   "execution_count": 44,
   "metadata": {},
   "outputs": [
    {
     "name": "stdout",
     "output_type": "stream",
     "text": [
      "12831/12831 [==============================] - 47s 4ms/step - loss: 0.2647 - mse: 0.2647 - val_loss: 0.2187 - val_mse: 0.2187\n"
     ]
    }
   ],
   "source": [
    "model.compile(optimizer='adam',loss='mse',metrics=['mse'])\n",
    "nt,nz,nf=X_train.shape\n",
    "nt,nz,nout=y_train.shape\n",
    "nt2,nz,nf=X_test.shape\n",
    "nt2,nz,nout=y_test.shape\n",
    "#X_train1=X_train.reshape(nt*nz,nf)\n",
    "#y_train1=y_train.reshape(nt*nz,nout)\n",
    "#X_test1=X_test.reshape(nt2*nz,nf)\n",
    "#y_test1=y_test.reshape(nt2*nz,nout)\n",
    "hist=model.fit(X_train[:,:72,:],y_train[:,:72,:],epochs=1,batch_size=32,\\\n",
    "                  validation_data=(X_test[:,:72,:],y_test[:,:72,:]))\n",
    "#y_=model.predict(X_train[0:1,:,:])\n",
    "#print(y_.shape)"
   ]
  },
  {
   "cell_type": "code",
   "execution_count": 35,
   "metadata": {},
   "outputs": [
    {
     "name": "stdout",
     "output_type": "stream",
     "text": [
      "Epoch 1/25\n",
      "12831/12831 [==============================] - 26s 2ms/step - loss: 0.4127 - mse: 0.4127 - val_loss: 0.3864 - val_mse: 0.3864\n",
      "Epoch 2/25\n",
      "12831/12831 [==============================] - 26s 2ms/step - loss: 0.4046 - mse: 0.4046 - val_loss: 0.3693 - val_mse: 0.3693\n",
      "Epoch 3/25\n",
      "12831/12831 [==============================] - 26s 2ms/step - loss: 0.3997 - mse: 0.3997 - val_loss: 0.3621 - val_mse: 0.3621\n",
      "Epoch 4/25\n",
      "12831/12831 [==============================] - 25s 2ms/step - loss: 0.3942 - mse: 0.3942 - val_loss: 0.3562 - val_mse: 0.3562\n",
      "Epoch 5/25\n",
      "12831/12831 [==============================] - 25s 2ms/step - loss: 0.3903 - mse: 0.3903 - val_loss: 0.3524 - val_mse: 0.3524\n",
      "Epoch 6/25\n",
      "12831/12831 [==============================] - 26s 2ms/step - loss: 0.3865 - mse: 0.3865 - val_loss: 0.3532 - val_mse: 0.3532\n",
      "Epoch 7/25\n",
      "12831/12831 [==============================] - 26s 2ms/step - loss: 0.3834 - mse: 0.3834 - val_loss: 0.3515 - val_mse: 0.3515\n",
      "Epoch 8/25\n",
      "12831/12831 [==============================] - 26s 2ms/step - loss: 0.3806 - mse: 0.3806 - val_loss: 0.3430 - val_mse: 0.3430\n",
      "Epoch 9/25\n",
      "12831/12831 [==============================] - 26s 2ms/step - loss: 0.3781 - mse: 0.3781 - val_loss: 0.3449 - val_mse: 0.3449\n",
      "Epoch 10/25\n",
      "12831/12831 [==============================] - 25s 2ms/step - loss: 0.3755 - mse: 0.3755 - val_loss: 0.3421 - val_mse: 0.3421\n",
      "Epoch 11/25\n",
      "12831/12831 [==============================] - 26s 2ms/step - loss: 0.3735 - mse: 0.3735 - val_loss: 0.3412 - val_mse: 0.3412\n",
      "Epoch 12/25\n",
      "12831/12831 [==============================] - 26s 2ms/step - loss: 0.3709 - mse: 0.3709 - val_loss: 0.3408 - val_mse: 0.3408\n",
      "Epoch 13/25\n",
      "12831/12831 [==============================] - 27s 2ms/step - loss: 0.3692 - mse: 0.3692 - val_loss: 0.3320 - val_mse: 0.3320\n",
      "Epoch 14/25\n",
      "12831/12831 [==============================] - 26s 2ms/step - loss: 0.3675 - mse: 0.3675 - val_loss: 0.3276 - val_mse: 0.3276\n",
      "Epoch 15/25\n",
      "12831/12831 [==============================] - 26s 2ms/step - loss: 0.3651 - mse: 0.3651 - val_loss: 0.3288 - val_mse: 0.3288\n",
      "Epoch 16/25\n",
      "12831/12831 [==============================] - 26s 2ms/step - loss: 0.3636 - mse: 0.3636 - val_loss: 0.3359 - val_mse: 0.3359\n",
      "Epoch 17/25\n",
      "12831/12831 [==============================] - 26s 2ms/step - loss: 0.3613 - mse: 0.3613 - val_loss: 0.3387 - val_mse: 0.3387\n",
      "Epoch 18/25\n",
      "12831/12831 [==============================] - 26s 2ms/step - loss: 0.3603 - mse: 0.3603 - val_loss: 0.3221 - val_mse: 0.3221\n",
      "Epoch 19/25\n",
      "12831/12831 [==============================] - 25s 2ms/step - loss: 0.3582 - mse: 0.3582 - val_loss: 0.3297 - val_mse: 0.3297\n",
      "Epoch 20/25\n",
      "12831/12831 [==============================] - 26s 2ms/step - loss: 0.3575 - mse: 0.3575 - val_loss: 0.3263 - val_mse: 0.3263\n",
      "Epoch 21/25\n",
      "12831/12831 [==============================] - 25s 2ms/step - loss: 0.3562 - mse: 0.3562 - val_loss: 0.3336 - val_mse: 0.3336\n",
      "Epoch 22/25\n",
      "12831/12831 [==============================] - 26s 2ms/step - loss: 0.3555 - mse: 0.3555 - val_loss: 0.3253 - val_mse: 0.3253\n",
      "Epoch 23/25\n",
      "12831/12831 [==============================] - 26s 2ms/step - loss: 0.3545 - mse: 0.3544 - val_loss: 0.3258 - val_mse: 0.3258\n",
      "Epoch 24/25\n",
      "12831/12831 [==============================] - 26s 2ms/step - loss: 0.3532 - mse: 0.3532 - val_loss: 0.3170 - val_mse: 0.3170\n",
      "Epoch 25/25\n",
      "12831/12831 [==============================] - 26s 2ms/step - loss: 0.3528 - mse: 0.3528 - val_loss: 0.3144 - val_mse: 0.3144\n"
     ]
    }
   ],
   "source": [
    "hist=model.fit(X_train[:,:36,:],y_train[:,:36,:],epochs=25,batch_size=32,\\\n",
    "                  validation_data=(X_test[:,:36,:],y_test[:,:36,:]))"
   ]
  },
  {
   "cell_type": "code",
   "execution_count": 18,
   "metadata": {},
   "outputs": [
    {
     "name": "stderr",
     "output_type": "stream",
     "text": [
      "/Users/mgrecu/miniconda3/lib/python3.9/site-packages/keras/src/engine/training.py:3000: UserWarning: You are saving your model as an HDF5 file via `model.save()`. This file format is considered legacy. We recommend using instead the native Keras format, e.g. `model.save('my_model.keras')`.\n",
      "  saving_api.save_model(\n"
     ]
    }
   ],
   "source": [
    "model_gc0.save(\"unet1D_MP_model_1M_gc0.keras\")\n",
    "model_gc0.save_weights(\"unet1D_MP_model_1M_weights_gc0.keras\")\n",
    "model_gc0.save(\"unet1D_MP_model_1M_gc0.h5\")\n"
   ]
  },
  {
   "cell_type": "code",
   "execution_count": 19,
   "metadata": {},
   "outputs": [],
   "source": [
    "#load model\n",
    "from keras.models import load_model\n",
    "model=load_model(\"unet1D_MP_model_1M_gc0.h5\")"
   ]
  },
  {
   "cell_type": "code",
   "execution_count": 45,
   "metadata": {},
   "outputs": [
    {
     "name": "stdout",
     "output_type": "stream",
     "text": [
      "8554/8554 [==============================] - 6s 657us/step\n",
      "time to predict= 7.166686296463013\n"
     ]
    }
   ],
   "source": [
    "import time\n",
    "t0=time.time()\n",
    "y_=model.predict(X_test[:,:36,:],batch_size=32)\n",
    "t1=time.time()\n",
    "print(\"time to predict=\",t1-t0)"
   ]
  },
  {
   "cell_type": "code",
   "execution_count": 46,
   "metadata": {},
   "outputs": [
    {
     "name": "stdout",
     "output_type": "stream",
     "text": [
      "7.16941694169417\n",
      "qc_tend 0.9848494269618134\n",
      "qr_tend 0.936836881351071\n",
      "qi_tend 0.8964280374635133\n",
      "qs_tend 0.9828397935001593\n",
      "qg_tend 0.806812344301749\n",
      "qv_tend 0.9009980960935048\n",
      "temp_tend 0.9471816496741234\n"
     ]
    }
   ],
   "source": [
    "print(y_.shape[0]/(189*202))\n",
    "for i,var in enumerate(outputVars):\n",
    "    print(var,np.corrcoef(y_[:,:,i].flatten(),y_test[:,:36,i].flatten())[0,1])"
   ]
  },
  {
   "cell_type": "code",
   "execution_count": 22,
   "metadata": {},
   "outputs": [
    {
     "data": {
      "text/html": [
       "<style>#sk-container-id-1 {color: black;background-color: white;}#sk-container-id-1 pre{padding: 0;}#sk-container-id-1 div.sk-toggleable {background-color: white;}#sk-container-id-1 label.sk-toggleable__label {cursor: pointer;display: block;width: 100%;margin-bottom: 0;padding: 0.3em;box-sizing: border-box;text-align: center;}#sk-container-id-1 label.sk-toggleable__label-arrow:before {content: \"▸\";float: left;margin-right: 0.25em;color: #696969;}#sk-container-id-1 label.sk-toggleable__label-arrow:hover:before {color: black;}#sk-container-id-1 div.sk-estimator:hover label.sk-toggleable__label-arrow:before {color: black;}#sk-container-id-1 div.sk-toggleable__content {max-height: 0;max-width: 0;overflow: hidden;text-align: left;background-color: #f0f8ff;}#sk-container-id-1 div.sk-toggleable__content pre {margin: 0.2em;color: black;border-radius: 0.25em;background-color: #f0f8ff;}#sk-container-id-1 input.sk-toggleable__control:checked~div.sk-toggleable__content {max-height: 200px;max-width: 100%;overflow: auto;}#sk-container-id-1 input.sk-toggleable__control:checked~label.sk-toggleable__label-arrow:before {content: \"▾\";}#sk-container-id-1 div.sk-estimator input.sk-toggleable__control:checked~label.sk-toggleable__label {background-color: #d4ebff;}#sk-container-id-1 div.sk-label input.sk-toggleable__control:checked~label.sk-toggleable__label {background-color: #d4ebff;}#sk-container-id-1 input.sk-hidden--visually {border: 0;clip: rect(1px 1px 1px 1px);clip: rect(1px, 1px, 1px, 1px);height: 1px;margin: -1px;overflow: hidden;padding: 0;position: absolute;width: 1px;}#sk-container-id-1 div.sk-estimator {font-family: monospace;background-color: #f0f8ff;border: 1px dotted black;border-radius: 0.25em;box-sizing: border-box;margin-bottom: 0.5em;}#sk-container-id-1 div.sk-estimator:hover {background-color: #d4ebff;}#sk-container-id-1 div.sk-parallel-item::after {content: \"\";width: 100%;border-bottom: 1px solid gray;flex-grow: 1;}#sk-container-id-1 div.sk-label:hover label.sk-toggleable__label {background-color: #d4ebff;}#sk-container-id-1 div.sk-serial::before {content: \"\";position: absolute;border-left: 1px solid gray;box-sizing: border-box;top: 0;bottom: 0;left: 50%;z-index: 0;}#sk-container-id-1 div.sk-serial {display: flex;flex-direction: column;align-items: center;background-color: white;padding-right: 0.2em;padding-left: 0.2em;position: relative;}#sk-container-id-1 div.sk-item {position: relative;z-index: 1;}#sk-container-id-1 div.sk-parallel {display: flex;align-items: stretch;justify-content: center;background-color: white;position: relative;}#sk-container-id-1 div.sk-item::before, #sk-container-id-1 div.sk-parallel-item::before {content: \"\";position: absolute;border-left: 1px solid gray;box-sizing: border-box;top: 0;bottom: 0;left: 50%;z-index: -1;}#sk-container-id-1 div.sk-parallel-item {display: flex;flex-direction: column;z-index: 1;position: relative;background-color: white;}#sk-container-id-1 div.sk-parallel-item:first-child::after {align-self: flex-end;width: 50%;}#sk-container-id-1 div.sk-parallel-item:last-child::after {align-self: flex-start;width: 50%;}#sk-container-id-1 div.sk-parallel-item:only-child::after {width: 0;}#sk-container-id-1 div.sk-dashed-wrapped {border: 1px dashed gray;margin: 0 0.4em 0.5em 0.4em;box-sizing: border-box;padding-bottom: 0.4em;background-color: white;}#sk-container-id-1 div.sk-label label {font-family: monospace;font-weight: bold;display: inline-block;line-height: 1.2em;}#sk-container-id-1 div.sk-label-container {text-align: center;}#sk-container-id-1 div.sk-container {/* jupyter's `normalize.less` sets `[hidden] { display: none; }` but bootstrap.min.css set `[hidden] { display: none !important; }` so we also need the `!important` here to be able to override the default hidden behavior on the sphinx rendered scikit-learn.org. See: https://github.com/scikit-learn/scikit-learn/issues/21755 */display: inline-block !important;position: relative;}#sk-container-id-1 div.sk-text-repr-fallback {display: none;}</style><div id=\"sk-container-id-1\" class=\"sk-top-container\"><div class=\"sk-text-repr-fallback\"><pre>KNeighborsRegressor(n_jobs=4, weights=&#x27;distance&#x27;)</pre><b>In a Jupyter environment, please rerun this cell to show the HTML representation or trust the notebook. <br />On GitHub, the HTML representation is unable to render, please try loading this page with nbviewer.org.</b></div><div class=\"sk-container\" hidden><div class=\"sk-item\"><div class=\"sk-estimator sk-toggleable\"><input class=\"sk-toggleable__control sk-hidden--visually\" id=\"sk-estimator-id-1\" type=\"checkbox\" checked><label for=\"sk-estimator-id-1\" class=\"sk-toggleable__label sk-toggleable__label-arrow\">KNeighborsRegressor</label><div class=\"sk-toggleable__content\"><pre>KNeighborsRegressor(n_jobs=4, weights=&#x27;distance&#x27;)</pre></div></div></div></div></div>"
      ],
      "text/plain": [
       "KNeighborsRegressor(n_jobs=4, weights='distance')"
      ]
     },
     "execution_count": 22,
     "metadata": {},
     "output_type": "execute_result"
    }
   ],
   "source": [
    "#import knn regressor\n",
    "from sklearn.neighbors import KNeighborsRegressor\n",
    "knn=KNeighborsRegressor(n_neighbors=5,weights='distance',n_jobs=4)\n",
    "knn.fit(X_train1,y_train1)\n"
   ]
  },
  {
   "cell_type": "code",
   "execution_count": 23,
   "metadata": {},
   "outputs": [
    {
     "ename": "KeyboardInterrupt",
     "evalue": "",
     "output_type": "error",
     "traceback": [
      "\u001b[0;31m---------------------------------------------------------------------------\u001b[0m",
      "\u001b[0;31mKeyboardInterrupt\u001b[0m                         Traceback (most recent call last)",
      "Cell \u001b[0;32mIn[23], line 1\u001b[0m\n\u001b[0;32m----> 1\u001b[0m y_knn\u001b[39m=\u001b[39mknn\u001b[39m.\u001b[39;49mpredict(X_test1)\n",
      "File \u001b[0;32m~/miniconda3/lib/python3.9/site-packages/sklearn/neighbors/_regression.py:225\u001b[0m, in \u001b[0;36mKNeighborsRegressor.predict\u001b[0;34m(self, X)\u001b[0m\n\u001b[1;32m    223\u001b[0m     neigh_dist \u001b[39m=\u001b[39m \u001b[39mNone\u001b[39;00m\n\u001b[1;32m    224\u001b[0m \u001b[39melse\u001b[39;00m:\n\u001b[0;32m--> 225\u001b[0m     neigh_dist, neigh_ind \u001b[39m=\u001b[39m \u001b[39mself\u001b[39;49m\u001b[39m.\u001b[39;49mkneighbors(X)\n\u001b[1;32m    227\u001b[0m weights \u001b[39m=\u001b[39m _get_weights(neigh_dist, \u001b[39mself\u001b[39m\u001b[39m.\u001b[39mweights)\n\u001b[1;32m    229\u001b[0m _y \u001b[39m=\u001b[39m \u001b[39mself\u001b[39m\u001b[39m.\u001b[39m_y\n",
      "File \u001b[0;32m~/miniconda3/lib/python3.9/site-packages/sklearn/neighbors/_base.py:814\u001b[0m, in \u001b[0;36mKNeighborsMixin.kneighbors\u001b[0;34m(self, X, n_neighbors, return_distance)\u001b[0m\n\u001b[1;32m    808\u001b[0m     \u001b[39mif\u001b[39;00m issparse(X):\n\u001b[1;32m    809\u001b[0m         \u001b[39mraise\u001b[39;00m \u001b[39mValueError\u001b[39;00m(\n\u001b[1;32m    810\u001b[0m             \u001b[39m\"\u001b[39m\u001b[39m%s\u001b[39;00m\u001b[39m does not work with sparse matrices. Densify the data, \u001b[39m\u001b[39m\"\u001b[39m\n\u001b[1;32m    811\u001b[0m             \u001b[39m\"\u001b[39m\u001b[39mor set algorithm=\u001b[39m\u001b[39m'\u001b[39m\u001b[39mbrute\u001b[39m\u001b[39m'\u001b[39m\u001b[39m\"\u001b[39m\n\u001b[1;32m    812\u001b[0m             \u001b[39m%\u001b[39m \u001b[39mself\u001b[39m\u001b[39m.\u001b[39m_fit_method\n\u001b[1;32m    813\u001b[0m         )\n\u001b[0;32m--> 814\u001b[0m     chunked_results \u001b[39m=\u001b[39m Parallel(n_jobs, prefer\u001b[39m=\u001b[39;49m\u001b[39m\"\u001b[39;49m\u001b[39mthreads\u001b[39;49m\u001b[39m\"\u001b[39;49m)(\n\u001b[1;32m    815\u001b[0m         delayed(_tree_query_parallel_helper)(\n\u001b[1;32m    816\u001b[0m             \u001b[39mself\u001b[39;49m\u001b[39m.\u001b[39;49m_tree, X[s], n_neighbors, return_distance\n\u001b[1;32m    817\u001b[0m         )\n\u001b[1;32m    818\u001b[0m         \u001b[39mfor\u001b[39;49;00m s \u001b[39min\u001b[39;49;00m gen_even_slices(X\u001b[39m.\u001b[39;49mshape[\u001b[39m0\u001b[39;49m], n_jobs)\n\u001b[1;32m    819\u001b[0m     )\n\u001b[1;32m    820\u001b[0m \u001b[39melse\u001b[39;00m:\n\u001b[1;32m    821\u001b[0m     \u001b[39mraise\u001b[39;00m \u001b[39mValueError\u001b[39;00m(\u001b[39m\"\u001b[39m\u001b[39minternal: _fit_method not recognized\u001b[39m\u001b[39m\"\u001b[39m)\n",
      "File \u001b[0;32m~/miniconda3/lib/python3.9/site-packages/joblib/parallel.py:1098\u001b[0m, in \u001b[0;36mParallel.__call__\u001b[0;34m(self, iterable)\u001b[0m\n\u001b[1;32m   1095\u001b[0m     \u001b[39mself\u001b[39m\u001b[39m.\u001b[39m_iterating \u001b[39m=\u001b[39m \u001b[39mFalse\u001b[39;00m\n\u001b[1;32m   1097\u001b[0m \u001b[39mwith\u001b[39;00m \u001b[39mself\u001b[39m\u001b[39m.\u001b[39m_backend\u001b[39m.\u001b[39mretrieval_context():\n\u001b[0;32m-> 1098\u001b[0m     \u001b[39mself\u001b[39;49m\u001b[39m.\u001b[39;49mretrieve()\n\u001b[1;32m   1099\u001b[0m \u001b[39m# Make sure that we get a last message telling us we are done\u001b[39;00m\n\u001b[1;32m   1100\u001b[0m elapsed_time \u001b[39m=\u001b[39m time\u001b[39m.\u001b[39mtime() \u001b[39m-\u001b[39m \u001b[39mself\u001b[39m\u001b[39m.\u001b[39m_start_time\n",
      "File \u001b[0;32m~/miniconda3/lib/python3.9/site-packages/joblib/parallel.py:975\u001b[0m, in \u001b[0;36mParallel.retrieve\u001b[0;34m(self)\u001b[0m\n\u001b[1;32m    973\u001b[0m \u001b[39mtry\u001b[39;00m:\n\u001b[1;32m    974\u001b[0m     \u001b[39mif\u001b[39;00m \u001b[39mgetattr\u001b[39m(\u001b[39mself\u001b[39m\u001b[39m.\u001b[39m_backend, \u001b[39m'\u001b[39m\u001b[39msupports_timeout\u001b[39m\u001b[39m'\u001b[39m, \u001b[39mFalse\u001b[39;00m):\n\u001b[0;32m--> 975\u001b[0m         \u001b[39mself\u001b[39m\u001b[39m.\u001b[39m_output\u001b[39m.\u001b[39mextend(job\u001b[39m.\u001b[39;49mget(timeout\u001b[39m=\u001b[39;49m\u001b[39mself\u001b[39;49m\u001b[39m.\u001b[39;49mtimeout))\n\u001b[1;32m    976\u001b[0m     \u001b[39melse\u001b[39;00m:\n\u001b[1;32m    977\u001b[0m         \u001b[39mself\u001b[39m\u001b[39m.\u001b[39m_output\u001b[39m.\u001b[39mextend(job\u001b[39m.\u001b[39mget())\n",
      "File \u001b[0;32m~/miniconda3/lib/python3.9/multiprocessing/pool.py:765\u001b[0m, in \u001b[0;36mApplyResult.get\u001b[0;34m(self, timeout)\u001b[0m\n\u001b[1;32m    764\u001b[0m \u001b[39mdef\u001b[39;00m \u001b[39mget\u001b[39m(\u001b[39mself\u001b[39m, timeout\u001b[39m=\u001b[39m\u001b[39mNone\u001b[39;00m):\n\u001b[0;32m--> 765\u001b[0m     \u001b[39mself\u001b[39;49m\u001b[39m.\u001b[39;49mwait(timeout)\n\u001b[1;32m    766\u001b[0m     \u001b[39mif\u001b[39;00m \u001b[39mnot\u001b[39;00m \u001b[39mself\u001b[39m\u001b[39m.\u001b[39mready():\n\u001b[1;32m    767\u001b[0m         \u001b[39mraise\u001b[39;00m \u001b[39mTimeoutError\u001b[39;00m\n",
      "File \u001b[0;32m~/miniconda3/lib/python3.9/multiprocessing/pool.py:762\u001b[0m, in \u001b[0;36mApplyResult.wait\u001b[0;34m(self, timeout)\u001b[0m\n\u001b[1;32m    761\u001b[0m \u001b[39mdef\u001b[39;00m \u001b[39mwait\u001b[39m(\u001b[39mself\u001b[39m, timeout\u001b[39m=\u001b[39m\u001b[39mNone\u001b[39;00m):\n\u001b[0;32m--> 762\u001b[0m     \u001b[39mself\u001b[39;49m\u001b[39m.\u001b[39;49m_event\u001b[39m.\u001b[39;49mwait(timeout)\n",
      "File \u001b[0;32m~/miniconda3/lib/python3.9/threading.py:581\u001b[0m, in \u001b[0;36mEvent.wait\u001b[0;34m(self, timeout)\u001b[0m\n\u001b[1;32m    579\u001b[0m signaled \u001b[39m=\u001b[39m \u001b[39mself\u001b[39m\u001b[39m.\u001b[39m_flag\n\u001b[1;32m    580\u001b[0m \u001b[39mif\u001b[39;00m \u001b[39mnot\u001b[39;00m signaled:\n\u001b[0;32m--> 581\u001b[0m     signaled \u001b[39m=\u001b[39m \u001b[39mself\u001b[39;49m\u001b[39m.\u001b[39;49m_cond\u001b[39m.\u001b[39;49mwait(timeout)\n\u001b[1;32m    582\u001b[0m \u001b[39mreturn\u001b[39;00m signaled\n",
      "File \u001b[0;32m~/miniconda3/lib/python3.9/threading.py:312\u001b[0m, in \u001b[0;36mCondition.wait\u001b[0;34m(self, timeout)\u001b[0m\n\u001b[1;32m    310\u001b[0m \u001b[39mtry\u001b[39;00m:    \u001b[39m# restore state no matter what (e.g., KeyboardInterrupt)\u001b[39;00m\n\u001b[1;32m    311\u001b[0m     \u001b[39mif\u001b[39;00m timeout \u001b[39mis\u001b[39;00m \u001b[39mNone\u001b[39;00m:\n\u001b[0;32m--> 312\u001b[0m         waiter\u001b[39m.\u001b[39;49macquire()\n\u001b[1;32m    313\u001b[0m         gotit \u001b[39m=\u001b[39m \u001b[39mTrue\u001b[39;00m\n\u001b[1;32m    314\u001b[0m     \u001b[39melse\u001b[39;00m:\n",
      "\u001b[0;31mKeyboardInterrupt\u001b[0m: "
     ]
    }
   ],
   "source": [
    "y_knn=knn.predict(X_test1)"
   ]
  },
  {
   "cell_type": "code",
   "execution_count": 24,
   "metadata": {},
   "outputs": [
    {
     "ename": "KeyboardInterrupt",
     "evalue": "",
     "output_type": "error",
     "traceback": [
      "\u001b[0;31m---------------------------------------------------------------------------\u001b[0m",
      "\u001b[0;31mKeyboardInterrupt\u001b[0m                         Traceback (most recent call last)",
      "Cell \u001b[0;32mIn[24], line 5\u001b[0m\n\u001b[1;32m      3\u001b[0m index \u001b[39m=\u001b[39m faiss\u001b[39m.\u001b[39mIndexFlatL2(d)   \u001b[39m# build the index\u001b[39;00m\n\u001b[1;32m      4\u001b[0m index\u001b[39m.\u001b[39madd(X_train1\u001b[39m.\u001b[39mastype(np\u001b[39m.\u001b[39mfloat32))                  \u001b[39m# add vectors to the index\u001b[39;00m\n\u001b[0;32m----> 5\u001b[0m D,I\u001b[39m=\u001b[39mindex\u001b[39m.\u001b[39;49msearch(X_test1\u001b[39m.\u001b[39;49mastype(np\u001b[39m.\u001b[39;49mfloat32),\u001b[39m5\u001b[39;49m)\n",
      "File \u001b[0;32m~/miniconda3/lib/python3.9/site-packages/faiss/class_wrappers.py:343\u001b[0m, in \u001b[0;36mhandle_Index.<locals>.replacement_search\u001b[0;34m(self, x, k, params, D, I)\u001b[0m\n\u001b[1;32m    340\u001b[0m \u001b[39melse\u001b[39;00m:\n\u001b[1;32m    341\u001b[0m     \u001b[39massert\u001b[39;00m I\u001b[39m.\u001b[39mshape \u001b[39m==\u001b[39m (n, k)\n\u001b[0;32m--> 343\u001b[0m \u001b[39mself\u001b[39;49m\u001b[39m.\u001b[39;49msearch_c(n, swig_ptr(x), k, swig_ptr(D), swig_ptr(I), params)\n\u001b[1;32m    344\u001b[0m \u001b[39mreturn\u001b[39;00m D, I\n",
      "File \u001b[0;32m~/miniconda3/lib/python3.9/site-packages/faiss/swigfaiss.py:1989\u001b[0m, in \u001b[0;36mIndexFlat.search\u001b[0;34m(self, n, x, k, distances, labels, params)\u001b[0m\n\u001b[1;32m   1988\u001b[0m \u001b[39mdef\u001b[39;00m \u001b[39msearch\u001b[39m(\u001b[39mself\u001b[39m, n, x, k, distances, labels, params\u001b[39m=\u001b[39m\u001b[39mNone\u001b[39;00m):\n\u001b[0;32m-> 1989\u001b[0m     \u001b[39mreturn\u001b[39;00m _swigfaiss\u001b[39m.\u001b[39;49mIndexFlat_search(\u001b[39mself\u001b[39;49m, n, x, k, distances, labels, params)\n",
      "\u001b[0;31mKeyboardInterrupt\u001b[0m: "
     ]
    }
   ],
   "source": [
    "import faiss\n",
    "d=X_train1.shape[1]\n",
    "index = faiss.IndexFlatL2(d)   # build the index\n",
    "index.add(X_train1.astype(np.float32))                  # add vectors to the index\n",
    "D,I=index.search(X_test1.astype(np.float32),5)     # actual search"
   ]
  },
  {
   "cell_type": "code",
   "execution_count": 22,
   "metadata": {},
   "outputs": [
    {
     "name": "stdout",
     "output_type": "stream",
     "text": [
      "qv_tend [5.71538360e-06 1.09037441e-05 5.73064942e-06 4.65945154e-06\n",
      " 6.48178443e-06 8.57747102e-06 1.10956188e-05 1.65760003e-05\n",
      " 1.52150891e-05 1.52516919e-05 1.37082565e-05 1.19273768e-05\n",
      " 1.18028884e-05 1.59931191e-05 1.03220118e-05 1.69803539e-05\n",
      " 1.59633133e-05 1.93033286e-05 9.35420655e-06 1.06444631e-05\n",
      " 6.60402674e-06 6.26716251e-06 6.01498583e-06 6.32434790e-06\n",
      " 5.14791975e-06 3.48434042e-06 3.61397219e-06 3.56189941e-06\n",
      " 2.80118983e-06 3.12614900e-06 2.69456954e-06 2.89661740e-06\n",
      " 2.39334366e-06 2.96723048e-06 2.11105994e-06 2.63177372e-06\n",
      " 1.81954944e-06 2.83229933e-06 2.31035884e-06 3.43772781e-06\n",
      " 3.37781347e-06 8.11539755e-06 9.39092900e-06 7.52599286e-06\n",
      " 7.81069644e-06 4.08548125e-06 5.43756377e-06 2.93810065e-06\n",
      " 1.42253440e-06 2.41426252e-06 1.36091834e-06 2.00809437e-06\n",
      " 1.31977866e-06 1.58989965e-06 9.22101473e-07 8.93433578e-07\n",
      " 5.34809086e-07 4.41919494e-07 1.97144575e-07 1.46743537e-07\n",
      " 6.20490909e-08 6.63721067e-08 6.28725742e-08 6.60960070e-08\n",
      " 6.54094778e-08 4.63547337e-08 3.07844304e-10 4.64708543e-12\n",
      " 6.44477609e+00 4.58986804e+00 1.32723442e+00 1.50205445e+00]\n",
      "temp_tend [5.10193620e-01 3.96407492e-01 2.02526404e-01 2.04844346e-01\n",
      " 2.78720182e-01 2.98684159e-01 3.49406357e-01 3.79172806e-01\n",
      " 3.39142078e-01 3.34793283e-01 3.64059904e-01 3.65510203e-01\n",
      " 5.42531516e-01 5.33564667e-01 5.60314129e-01 7.43454439e-01\n",
      " 1.19196154e+00 8.64314982e-01 4.66796759e-01 3.77093019e-01\n",
      " 5.43748153e-01 6.17032891e-01 8.56010810e-01 9.36571307e-01\n",
      " 8.10038549e-01 6.82092115e-01 8.13099191e-01 7.08916277e-01\n",
      " 5.82549206e-01 7.46415738e-01 9.34543017e-01 1.56224413e+00\n",
      " 1.96425207e+00 9.70689112e-01 6.62495121e-01 4.22332296e-01\n",
      " 6.84098459e-01 8.20937286e-01 5.20721483e-01 5.09111476e-01\n",
      " 5.91258786e-01 1.31685412e+00 1.56435824e+00 5.42879184e-01\n",
      " 5.40399551e-02 4.48098276e-03 4.21269948e-03 3.36121163e-03\n",
      " 2.83379079e-03 3.74845320e-03 1.98433737e-03 1.65040569e-03\n",
      " 1.64098975e-03 1.29143762e-03 1.19390323e-03 1.03670512e-03\n",
      " 1.11802411e-03 1.02535163e-03 1.07344486e-03 1.43720477e-03\n",
      " 1.27339444e-03 8.03056572e-04 6.07847576e-04 3.94122028e-04\n",
      " 3.28655718e-04 2.47375777e-04 2.27843995e-05 8.17356277e-08\n",
      " 3.93165460e+01 8.52593601e+00 3.19145639e+00 6.87655890e+00]\n"
     ]
    }
   ],
   "source": [
    "for i,var in enumerate(outputVars[-2:]):\n",
    "    print(var,((y_[:,:,i]).max(axis=0)*outputScalers[var].scale_+outputScalers[var].mean_)*13)"
   ]
  }
 ],
 "metadata": {
  "kernelspec": {
   "display_name": "base",
   "language": "python",
   "name": "python3"
  },
  "language_info": {
   "codemirror_mode": {
    "name": "ipython",
    "version": 3
   },
   "file_extension": ".py",
   "mimetype": "text/x-python",
   "name": "python",
   "nbconvert_exporter": "python",
   "pygments_lexer": "ipython3",
   "version": "3.9.13"
  },
  "orig_nbformat": 4
 },
 "nbformat": 4,
 "nbformat_minor": 2
}
