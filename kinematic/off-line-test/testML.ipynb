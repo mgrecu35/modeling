{
 "cells": [
  {
   "cell_type": "code",
   "execution_count": 107,
   "metadata": {},
   "outputs": [
    {
     "name": "stdout",
     "output_type": "stream",
     "text": [
      " tile_01/output001.bin\n",
      "0 qv qv qv_new\n",
      "1 qc qc qc_new\n",
      "2 qr qr qr_new\n",
      "3 qi qi qi_new\n",
      "4 qs qs qs_new\n",
      "5 qg qg qg_new\n",
      "6 temp th th_new\n",
      "14 press press press\n",
      "15 dz dz dz\n",
      " tile_01/output002.bin\n",
      "0 qv qv qv_new\n",
      "1 qc qc qc_new\n",
      "2 qr qr qr_new\n",
      "3 qi qi qi_new\n",
      "4 qs qs qs_new\n",
      "5 qg qg qg_new\n",
      "6 temp th th_new\n",
      "14 press press press\n",
      "15 dz dz dz\n",
      " tile_01/output003.bin\n",
      "0 qv qv qv_new\n",
      "1 qc qc qc_new\n",
      "2 qr qr qr_new\n",
      "3 qi qi qi_new\n",
      "4 qs qs qs_new\n",
      "5 qg qg qg_new\n",
      "6 temp th th_new\n",
      "14 press press press\n",
      "15 dz dz dz\n",
      " tile_02/output001.bin\n",
      "0 qv qv qv_new\n",
      "1 qc qc qc_new\n",
      "2 qr qr qr_new\n",
      "3 qi qi qi_new\n",
      "4 qs qs qs_new\n",
      "5 qg qg qg_new\n",
      "6 temp th th_new\n",
      "14 press press press\n",
      "15 dz dz dz\n",
      " tile_02/output002.bin\n",
      "0 qv qv qv_new\n",
      "1 qc qc qc_new\n",
      "2 qr qr qr_new\n",
      "3 qi qi qi_new\n",
      "4 qs qs qs_new\n",
      "5 qg qg qg_new\n",
      "6 temp th th_new\n",
      "14 press press press\n",
      "15 dz dz dz\n",
      " tile_02/output003.bin\n",
      "0 qv qv qv_new\n",
      "1 qc qc qc_new\n",
      "2 qr qr qr_new\n",
      "3 qi qi qi_new\n",
      "4 qs qs qs_new\n",
      "5 qg qg qg_new\n",
      "6 temp th th_new\n",
      "14 press press press\n",
      "15 dz dz dz\n",
      " tile_03/output001.bin\n",
      "0 qv qv qv_new\n",
      "1 qc qc qc_new\n",
      "2 qr qr qr_new\n",
      "3 qi qi qi_new\n",
      "4 qs qs qs_new\n",
      "5 qg qg qg_new\n",
      "6 temp th th_new\n",
      "14 press press press\n",
      "15 dz dz dz\n",
      " tile_03/output002.bin\n",
      "0 qv qv qv_new\n",
      "1 qc qc qc_new\n",
      "2 qr qr qr_new\n",
      "3 qi qi qi_new\n",
      "4 qs qs qs_new\n",
      "5 qg qg qg_new\n",
      "6 temp th th_new\n",
      "14 press press press\n",
      "15 dz dz dz\n",
      " tile_03/output003.bin\n",
      "0 qv qv qv_new\n",
      "1 qc qc qc_new\n",
      "2 qr qr qr_new\n",
      "3 qi qi qi_new\n",
      "4 qs qs qs_new\n",
      "5 qg qg qg_new\n",
      "6 temp th th_new\n",
      "14 press press press\n",
      "15 dz dz dz\n",
      " tile_04/output001.bin\n",
      "0 qv qv qv_new\n",
      "1 qc qc qc_new\n",
      "2 qr qr qr_new\n",
      "3 qi qi qi_new\n",
      "4 qs qs qs_new\n",
      "5 qg qg qg_new\n",
      "6 temp th th_new\n",
      "14 press press press\n",
      "15 dz dz dz\n",
      " tile_04/output002.bin\n",
      "0 qv qv qv_new\n",
      "1 qc qc qc_new\n",
      "2 qr qr qr_new\n",
      "3 qi qi qi_new\n",
      "4 qs qs qs_new\n",
      "5 qg qg qg_new\n",
      "6 temp th th_new\n",
      "14 press press press\n",
      "15 dz dz dz\n",
      " tile_04/output003.bin\n",
      "0 qv qv qv_new\n",
      "1 qc qc qc_new\n",
      "2 qr qr qr_new\n",
      "3 qi qi qi_new\n",
      "4 qs qs qs_new\n",
      "5 qg qg qg_new\n",
      "6 temp th th_new\n",
      "14 press press press\n",
      "15 dz dz dz\n",
      " tile_05/output001.bin\n",
      "0 qv qv qv_new\n",
      "1 qc qc qc_new\n",
      "2 qr qr qr_new\n",
      "3 qi qi qi_new\n",
      "4 qs qs qs_new\n",
      "5 qg qg qg_new\n",
      "6 temp th th_new\n",
      "14 press press press\n",
      "15 dz dz dz\n",
      " tile_05/output002.bin\n",
      "0 qv qv qv_new\n",
      "1 qc qc qc_new\n",
      "2 qr qr qr_new\n",
      "3 qi qi qi_new\n",
      "4 qs qs qs_new\n",
      "5 qg qg qg_new\n",
      "6 temp th th_new\n",
      "14 press press press\n",
      "15 dz dz dz\n",
      " tile_05/output003.bin\n",
      "0 qv qv qv_new\n",
      "1 qc qc qc_new\n",
      "2 qr qr qr_new\n",
      "3 qi qi qi_new\n",
      "4 qs qs qs_new\n",
      "5 qg qg qg_new\n",
      "6 temp th th_new\n",
      "14 press press press\n",
      "15 dz dz dz\n",
      " tile_06/output001.bin\n",
      "0 qv qv qv_new\n",
      "1 qc qc qc_new\n",
      "2 qr qr qr_new\n",
      "3 qi qi qi_new\n",
      "4 qs qs qs_new\n",
      "5 qg qg qg_new\n",
      "6 temp th th_new\n",
      "14 press press press\n",
      "15 dz dz dz\n",
      " tile_06/output002.bin\n",
      "0 qv qv qv_new\n",
      "1 qc qc qc_new\n",
      "2 qr qr qr_new\n",
      "3 qi qi qi_new\n",
      "4 qs qs qs_new\n",
      "5 qg qg qg_new\n",
      "6 temp th th_new\n",
      "14 press press press\n",
      "15 dz dz dz\n",
      " tile_06/output003.bin\n",
      "0 qv qv qv_new\n",
      "1 qc qc qc_new\n",
      "2 qr qr qr_new\n",
      "3 qi qi qi_new\n",
      "4 qs qs qs_new\n",
      "5 qg qg qg_new\n",
      "6 temp th th_new\n",
      "14 press press press\n",
      "15 dz dz dz\n",
      " tile_07/output001.bin\n",
      "0 qv qv qv_new\n",
      "1 qc qc qc_new\n",
      "2 qr qr qr_new\n",
      "3 qi qi qi_new\n",
      "4 qs qs qs_new\n",
      "5 qg qg qg_new\n",
      "6 temp th th_new\n",
      "14 press press press\n",
      "15 dz dz dz\n",
      " tile_07/output002.bin\n",
      "0 qv qv qv_new\n",
      "1 qc qc qc_new\n",
      "2 qr qr qr_new\n",
      "3 qi qi qi_new\n",
      "4 qs qs qs_new\n",
      "5 qg qg qg_new\n",
      "6 temp th th_new\n",
      "14 press press press\n",
      "15 dz dz dz\n",
      " tile_07/output003.bin\n",
      "0 qv qv qv_new\n",
      "1 qc qc qc_new\n",
      "2 qr qr qr_new\n",
      "3 qi qi qi_new\n",
      "4 qs qs qs_new\n",
      "5 qg qg qg_new\n",
      "6 temp th th_new\n",
      "14 press press press\n",
      "15 dz dz dz\n",
      " tile_08/output001.bin\n",
      "0 qv qv qv_new\n",
      "1 qc qc qc_new\n",
      "2 qr qr qr_new\n",
      "3 qi qi qi_new\n",
      "4 qs qs qs_new\n",
      "5 qg qg qg_new\n",
      "6 temp th th_new\n",
      "14 press press press\n",
      "15 dz dz dz\n",
      " tile_08/output002.bin\n",
      "0 qv qv qv_new\n",
      "1 qc qc qc_new\n",
      "2 qr qr qr_new\n",
      "3 qi qi qi_new\n",
      "4 qs qs qs_new\n",
      "5 qg qg qg_new\n",
      "6 temp th th_new\n",
      "14 press press press\n",
      "15 dz dz dz\n",
      " tile_08/output003.bin\n",
      "0 qv qv qv_new\n",
      "1 qc qc qc_new\n",
      "2 qr qr qr_new\n",
      "3 qi qi qi_new\n",
      "4 qs qs qs_new\n",
      "5 qg qg qg_new\n",
      "6 temp th th_new\n",
      "14 press press press\n",
      "15 dz dz dz\n",
      " tile_09/output001.bin\n",
      "0 qv qv qv_new\n",
      "1 qc qc qc_new\n",
      "2 qr qr qr_new\n",
      "3 qi qi qi_new\n",
      "4 qs qs qs_new\n",
      "5 qg qg qg_new\n",
      "6 temp th th_new\n",
      "14 press press press\n",
      "15 dz dz dz\n",
      " tile_09/output002.bin\n",
      "0 qv qv qv_new\n",
      "1 qc qc qc_new\n",
      "2 qr qr qr_new\n",
      "3 qi qi qi_new\n",
      "4 qs qs qs_new\n",
      "5 qg qg qg_new\n",
      "6 temp th th_new\n",
      "14 press press press\n",
      "15 dz dz dz\n",
      " tile_09/output003.bin\n",
      "0 qv qv qv_new\n",
      "1 qc qc qc_new\n",
      "2 qr qr qr_new\n",
      "3 qi qi qi_new\n",
      "4 qs qs qs_new\n",
      "5 qg qg qg_new\n",
      "6 temp th th_new\n",
      "14 press press press\n",
      "15 dz dz dz\n"
     ]
    }
   ],
   "source": [
    "import numpy as np\n",
    "from readFields import read_data\n",
    "varList=['qv','qc','qr','qi','qs','qg','th','qv_new','qc_new','qr_new','qi_new',\\\n",
    "         'qs_new','qg_new','th_new','press','dz']\n",
    "import pickle\n",
    "import numpy as np\n",
    "inputScalers=pickle.load(open(\"inputScalers_1M_cell.pkl\",\"rb\"))\n",
    "outputScalers=pickle.load(open(\"outputScalers_1M_cell.pkl\",\"rb\"))\n",
    "import sys\n",
    "sys.path.append(\"/Users/mgrecu/WDomains/MCS_OK\")\n",
    "from fscale import fscale1,update_var1, fscale1d,update_var1d\n",
    "inputVars=[\"qv\",\"qc\",\"qr\",\"qi\",\"qs\",\"qg\",\"temp\",\"press\",\"dz\"]\n",
    "outputVars=[\"qv_tend\",\"qc_tend\",\"qr_tend\",\"qi_tend\",\"qs_tend\",\"qg_tend\",\"temp_tend\"]\n",
    "qcm,qcs=inputScalers[\"qc\"]\n",
    "qrm,qrs=inputScalers[\"qr\"]\n",
    "qim,qis=inputScalers[\"qi\"]\n",
    "qsm,qss=inputScalers[\"qs\"]\n",
    "qgm,qgs=inputScalers[\"qg\"]\n",
    "qvm,qvs=inputScalers[\"qv\"]\n",
    "from keras.models import load_model\n",
    "#define mlp model with 9 inputs, 2 hidden layers with 64 neurons and 7 outputs.\n",
    "#\n",
    "from keras.models import Sequential\n",
    "from keras.layers import Dense\n",
    "def mlp_model():\n",
    "    model = Sequential()\n",
    "    model.add(Dense(64, input_dim=9, activation='relu'))\n",
    "    model.add(Dense(64, activation='relu'))\n",
    "    model.add(Dense(7))\n",
    "    model.compile(loss='mean_squared_error', optimizer='adam')\n",
    "    return model\n",
    "    \n",
    "model=mlp_model()\n",
    "\n",
    "itemp=varList.index('th')\n",
    "ipress=varList.index('press')\n",
    "iqc=varList.index('qc')\n",
    "iqc_new=varList.index('qc_new')\n",
    "iqi=varList.index('qi')\n",
    "iqi_new=varList.index('qi_new')\n",
    "iqv=varList.index('qv')\n",
    "iqv_new=varList.index('qv_new')\n",
    "iqr=varList.index('qr')\n",
    "iqr_new=varList.index('qr_new')\n",
    "iqg=varList.index('qg')\n",
    "iqg_new=varList.index('qg_new')\n",
    "iqs=varList.index('qs')\n",
    "iqs_new=varList.index('qs_new')\n",
    "ind=np.sort([iqc,iqr,iqi,iqs,iqg,iqc_new,iqr_new,iqi_new,iqs_new,iqg_new])\n",
    "#unet1D_MP_model_1M_gc.h5\n",
    "xL=[]\n",
    "yL=[]\n",
    "for itile in range(9):\n",
    "    for itime in range(3):\n",
    "        fname='tile_%2.2i/output%3.3i.bin'%(itile+1,itime+1)\n",
    "        dims=open('tile_%2.2i/output%3.3i'%(itile+1,itime+1),'r').readline().split()\n",
    "        nx=int(dims[0])\n",
    "        ny=int(dims[1])\n",
    "        nz=72\n",
    "        fields=read_data(fname, nx,ny)\n",
    "        outVars=[]\n",
    "        x1L=[]\n",
    "        y1L=[]\n",
    "        a=np.nonzero(fields[ind,:,:,:].sum(axis=0)>0)\n",
    "        for var in inputVars:\n",
    "    #find index of var in varList\n",
    "            if var!='temp':\n",
    "                ivar=varList.index(var)\n",
    "                if var=='press' or var=='dz':\n",
    "                    ivar_new=ivar\n",
    "                else:\n",
    "                    ivar_new=varList.index(var+'_new')\n",
    "            else:\n",
    "                ivar=varList.index('th')\n",
    "                ivar_new=varList.index('th_new')\n",
    "            if var=='press' or var=='dz':\n",
    "                ivar_new=ivar\n",
    "            print(ivar,var,varList[ivar],varList[ivar_new])\n",
    "            if var=='temp':\n",
    "                fields[ivar,:,:,:]=fields[ivar,:,:]*(fields[14,:,:,:]/1e5)**(287/1004)\n",
    "                fields[ivar_new,:,:,:]=fields[ivar_new,:,:,:]*(fields[14,:,:,:]/1e5)**(287/1004)\n",
    "            x1L.append(fields[ivar,:,:][a])\n",
    "            if(ivar!=ivar_new):\n",
    "                y1L.append((fields[ivar_new,:,:,:]-fields[ivar,:,:,:])[a])\n",
    "                outVars.append(var+'_tend')\n",
    "        xL.extend(np.array(x1L).transpose())\n",
    "        yL.extend(np.array(y1L).transpose())\n",
    "\n"
   ]
  },
  {
   "cell_type": "code",
   "execution_count": 108,
   "metadata": {},
   "outputs": [
    {
     "name": "stdout",
     "output_type": "stream",
     "text": [
      "['qv_tend', 'qc_tend', 'qr_tend', 'qi_tend', 'qs_tend', 'qg_tend', 'temp_tend']\n",
      "['qv', 'qc', 'qr', 'qi', 'qs', 'qg', 'temp', 'press', 'dz']\n"
     ]
    }
   ],
   "source": [
    "print(outVars)\n",
    "print(inputVars)\n"
   ]
  },
  {
   "cell_type": "code",
   "execution_count": null,
   "metadata": {},
   "outputs": [],
   "source": []
  },
  {
   "cell_type": "code",
   "execution_count": 109,
   "metadata": {},
   "outputs": [
    {
     "name": "stdout",
     "output_type": "stream",
     "text": [
      "[3.3028284e-03 1.3988850e-05 1.4606135e-05 2.4927071e-05 4.7430305e-05\n",
      " 1.0704100e-04 2.4959442e+02 4.2325812e+04 2.4561086e+02] [5.2003614e-03 1.2808167e-04 1.6803812e-04 1.2337242e-04 1.9016213e-04\n",
      " 7.1647158e-04 3.1765373e+01 2.6031832e+04 5.2455593e+01]\n"
     ]
    }
   ],
   "source": [
    "xL=np.array(xL)\n",
    "yL=np.array(yL)\n",
    "print(xL.mean(axis=0),xL.std(axis=0))\n",
    "#\n"
   ]
  },
  {
   "cell_type": "code",
   "execution_count": 110,
   "metadata": {},
   "outputs": [
    {
     "name": "stdout",
     "output_type": "stream",
     "text": [
      "Model: \"sequential_1\"\n",
      "_________________________________________________________________\n",
      " Layer (type)                Output Shape              Param #   \n",
      "=================================================================\n",
      " dense_3 (Dense)             (None, 64)                640       \n",
      "                                                                 \n",
      " dense_4 (Dense)             (None, 64)                4160      \n",
      "                                                                 \n",
      " dense_5 (Dense)             (None, 7)                 455       \n",
      "                                                                 \n",
      "=================================================================\n",
      "Total params: 5255 (20.53 KB)\n",
      "Trainable params: 5255 (20.53 KB)\n",
      "Non-trainable params: 0 (0.00 Byte)\n",
      "_________________________________________________________________\n"
     ]
    }
   ],
   "source": [
    "#import scalers\n",
    "#scale input\n",
    "from sklearn.preprocessing import StandardScaler\n",
    "scalerX=StandardScaler()\n",
    "scalerY=StandardScaler()\n",
    "xscaled=scalerX.fit_transform(xL)\n",
    "yscaled=scalerY.fit_transform(yL)\n",
    "#import train_test_split\n",
    "from sklearn.model_selection import train_test_split\n",
    "x_train, x_test, y_train, y_test = train_test_split(xscaled, yscaled, test_size=0.2, random_state=42)\n",
    "model.summary()"
   ]
  },
  {
   "cell_type": "code",
   "execution_count": 111,
   "metadata": {},
   "outputs": [
    {
     "name": "stdout",
     "output_type": "stream",
     "text": [
      "Epoch 1/10\n",
      "14961/14961 [==============================] - 11s 711us/step - loss: 0.4592 - val_loss: 0.3219\n",
      "Epoch 2/10\n",
      "14961/14961 [==============================] - 11s 704us/step - loss: 0.3230 - val_loss: 0.2687\n",
      "Epoch 3/10\n",
      "14961/14961 [==============================] - 11s 703us/step - loss: 0.2893 - val_loss: 0.3867\n",
      "Epoch 4/10\n",
      "14961/14961 [==============================] - 10s 702us/step - loss: 0.2704 - val_loss: 0.2615\n",
      "Epoch 5/10\n",
      "14961/14961 [==============================] - 11s 703us/step - loss: 0.2628 - val_loss: 0.2414\n",
      "Epoch 6/10\n",
      "14961/14961 [==============================] - 11s 705us/step - loss: 0.2540 - val_loss: 0.2728\n",
      "Epoch 7/10\n",
      "14961/14961 [==============================] - 10s 701us/step - loss: 0.2455 - val_loss: 0.2656\n",
      "Epoch 8/10\n",
      "14961/14961 [==============================] - 11s 702us/step - loss: 0.2368 - val_loss: 0.2270\n",
      "Epoch 9/10\n",
      "14961/14961 [==============================] - 10s 700us/step - loss: 0.2344 - val_loss: 0.2054\n",
      "Epoch 10/10\n",
      "14961/14961 [==============================] - 11s 726us/step - loss: 0.2258 - val_loss: 0.2059\n"
     ]
    }
   ],
   "source": [
    "history=model.fit(x_train,y_train,epochs=10,batch_size=100,validation_data=(x_test,y_test)) "
   ]
  },
  {
   "cell_type": "code",
   "execution_count": 114,
   "metadata": {},
   "outputs": [
    {
     "data": {
      "text/plain": [
       "<matplotlib.collections.QuadMesh at 0x2ace1d430>"
      ]
     },
     "execution_count": 114,
     "metadata": {},
     "output_type": "execute_result"
    },
    {
     "data": {
      "image/png": "[encoded data removed]",
      "text/plain": [
       "<Figure size 640x480 with 1 Axes>"
      ]
     },
     "metadata": {},
     "output_type": "display_data"
    },
    {
     "data": {
      "image/png": "[encoded data removed]",
      "text/plain": [
       "<Figure size 640x480 with 1 Axes>"
      ]
     },
     "metadata": {},
     "output_type": "display_data"
    }
   ],
   "source": [
    "plt.pcolormesh(fields[2,:,:,10].T,cmap='jet')\n",
    "plt.figure()\n",
    "plt.pcolormesh((fields[13,:,:,10]-fields[6,:,:,10]).T,cmap='jet')"
   ]
  },
  {
   "cell_type": "code",
   "execution_count": 118,
   "metadata": {},
   "outputs": [
    {
     "ename": "",
     "evalue": "",
     "output_type": "error",
     "traceback": [
      "\u001b[1;31mCannot execute code, session has been disposed. Please try restarting the Kernel."
     ]
    },
    {
     "ename": "",
     "evalue": "",
     "output_type": "error",
     "traceback": [
      "\u001b[1;31mThe Kernel crashed while executing code in the the current cell or a previous cell. Please review the code in the cell(s) to identify a possible cause of the failure. Click <a href='https://aka.ms/vscodeJupyterKernelCrash'>here</a> for more info. View Jupyter <a href='command:jupyter.viewOutput'>log</a> for further details."
     ]
    }
   ],
   "source": []
  },
  {
   "cell_type": "code",
   "execution_count": 115,
   "metadata": {},
   "outputs": [
    {
     "name": "stderr",
     "output_type": "stream",
     "text": [
      "/Users/mgrecu/miniconda3/lib/python3.9/site-packages/keras/src/engine/training.py:3000: UserWarning: You are saving your model as an HDF5 file via `model.save()`. This file format is considered legacy. We recommend using instead the native Keras format, e.g. `model.save('my_model.keras')`.\n",
      "  saving_api.save_model(\n"
     ]
    }
   ],
   "source": [
    "model.save(\"mp_model_0d.h5\")"
   ]
  },
  {
   "cell_type": "code",
   "execution_count": 70,
   "metadata": {},
   "outputs": [
    {
     "name": "stdout",
     "output_type": "stream",
     "text": [
      "1/1 [==============================] - 0s 14ms/step\n",
      "[[-0.04605138 -0.10046151  0.01557901  0.0024309  -0.08582917  0.17795087\n",
      "  -0.18902014]]\n"
     ]
    }
   ],
   "source": [
    "xinput=[ -6.06660619E-02,  -4.95523401E-02, -0.110201314,    -0.138018325,      -8.25610980E-02,  0.328399539,\\\n",
    "               1.40543187,       1.52716160,      1.10277939]\n",
    "xinput=[ -6.06659576E-02,  -4.95505370E-02, -0.110201314,     -0.138018325 ,     -8.25610980E-02,  0.351970166,\n",
    "             -0.651567221,     -0.712960541 ,      4.20613103E-02]\n",
    "#xinput=[ -4.76468280E-02,  0.248610601,     -0.103829496 ,     0.422248989,      -8.21322426E-02,\n",
    "#          0.647349715,      0.871282458 ,     0.952619076,      0.419463575]   \n",
    "xinput=[ -6.06619269E-02,  -4.79406975E-02, -0.110201128,     -0.121057831,\\\n",
    "              -6.16144426E-02,  0.149291933,      0.269526869,      0.715923786,\\\n",
    "                            0.240183070 ]\n",
    "xinput=np.array(xinput)[np.newaxis,:]\n",
    "yout=model.predict(xinput)\n",
    "print(yout)\n",
    "#print(xinput)"
   ]
  },
  {
   "cell_type": "code",
   "execution_count": 116,
   "metadata": {},
   "outputs": [
    {
     "name": "stdout",
     "output_type": "stream",
     "text": [
      "[0.003315005218148738, 1.3991694213505624e-05, 1.460830579877713e-05, 2.4933441397318293e-05, 4.743995609906075e-05, 0.0001070590156169587, 248.90307223405165, 42325.43806454194, 245.6880410989276]\n",
      "[0.005188289465698395, 0.00012867134045073828, 0.00016844543890582057, 0.00012484716493930284, 0.00019047270694516342, 0.0007185409687322846, 31.769377267665877, 26040.11419624085, 52.57923401164694]\n",
      "[-9.800165435953876e-07, -1.5075518595215102e-07, -1.7199690209827199e-07, 5.8635545128302734e-08, 1.323342222114488e-07, 1.299709084929269e-07, 0.002767458625174922]\n",
      "[1.6866934204044486e-05, 1.72771219177893e-05, 2.402103196794837e-05, 1.0752144470956599e-05, 3.585489061213833e-06, 3.0273808704202674e-05, 0.04689521341170341]\n"
     ]
    }
   ],
   "source": [
    "print([v for v in scalerX.mean_])\n",
    "print([v for v in scalerX.scale_])\n",
    "print([v for v in scalerY.mean_])\n",
    "print([v for v in scalerY.scale_])"
   ]
  },
  {
   "cell_type": "code",
   "execution_count": 79,
   "metadata": {},
   "outputs": [
    {
     "name": "stdout",
     "output_type": "stream",
     "text": [
      "(9, 64)\n",
      "(64,)\n",
      "(64, 64)\n",
      "(64,)\n",
      "(64, 7)\n",
      "(7,)\n"
     ]
    }
   ],
   "source": [
    "for i in range(6):\n",
    "    print(model.weights[i].shape)\n"
   ]
  },
  {
   "cell_type": "code",
   "execution_count": 81,
   "metadata": {},
   "outputs": [
    {
     "name": "stdout",
     "output_type": "stream",
     "text": [
      "Output:\n",
      "tf.Tensor(\n",
      "[-0.04605138 -0.10046151  0.01557901  0.0024309  -0.08582917  0.17795087\n",
      " -0.18902014], shape=(7,), dtype=float32)\n",
      "[[-0.04605138 -0.10046151  0.01557901  0.0024309  -0.08582917  0.17795087\n",
      "  -0.18902014]]\n"
     ]
    }
   ],
   "source": [
    "import numpy as np\n",
    "\n",
    "def initialize_weights_and_biases():\n",
    "    weights_input_hidden = np.random.randn(input_size, hidden_size)\n",
    "    biases_hidden = np.zeros(hidden_size)\n",
    "    weights_hidden_hidden = np.random.randn(hidden_size, hidden_size)\n",
    "    biases_hidden2 = np.zeros(hidden_size)\n",
    "    weights_hidden_output = np.random.randn(hidden_size, output_size)\n",
    "    biases_output = np.zeros(output_size)\n",
    "    return weights_input_hidden, biases_hidden, weights_hidden_hidden, biases_hidden2, weights_hidden_output, biases_output\n",
    "\n",
    "def relu(x):\n",
    "    return np.maximum(0, x)\n",
    "\n",
    "def forward_propagation(input_data, weights_input_hidden, biases_hidden, weights_hidden_hidden, biases_hidden2, weights_hidden_output, biases_output):\n",
    "    hidden_layer1 = np.dot(input_data, weights_input_hidden) + biases_hidden\n",
    "    hidden_layer1 = relu(hidden_layer1)\n",
    "    \n",
    "    hidden_layer2 = np.dot(hidden_layer1, weights_hidden_hidden) + biases_hidden2\n",
    "    hidden_layer2 = relu(hidden_layer2)\n",
    "    \n",
    "    output_layer = np.dot(hidden_layer2, weights_hidden_output) + biases_output\n",
    "    \n",
    "    return output_layer\n",
    "\n",
    "# MLP architecture\n",
    "input_size = 9\n",
    "hidden_size = 64\n",
    "output_size = 7\n",
    "\n",
    "# Initialize weights and biases\n",
    "weights_input_hidden, biases_hidden, weights_hidden_hidden, biases_hidden2, weights_hidden_output, biases_output = \\\n",
    "     [ model.weights[i] for i in range(6)]\n",
    "\n",
    "# Generate example input data (you need to provide actual input data)\n",
    "input_data = xinput[0,:]\n",
    "\n",
    "# Forward propagation\n",
    "output_data = forward_propagation(input_data, weights_input_hidden, biases_hidden, weights_hidden_hidden, biases_hidden2, weights_hidden_output, biases_output)\n",
    "\n",
    "print(\"Output:\")\n",
    "print(output_data)\n",
    "print(yout)\n"
   ]
  },
  {
   "cell_type": "code",
   "execution_count": 96,
   "metadata": {},
   "outputs": [
    {
     "data": {
      "image/png": "[encoded data removed]",
      "text/plain": [
       "<Figure size 640x480 with 1 Axes>"
      ]
     },
     "metadata": {},
     "output_type": "display_data"
    }
   ],
   "source": [
    "import matplotlib.pyplot as plt\n",
    "h1=plt.hist(xscaled[:,1],bins=np.arange(21)*0.1-1)"
   ]
  },
  {
   "cell_type": "code",
   "execution_count": 84,
   "metadata": {},
   "outputs": [],
   "source": [
    "np.savetxt('weights_input.txt',weights_input_hidden)\n",
    "np.savetxt('biases_hidden.txt',biases_hidden)\n",
    "np.savetxt('weights_hidden.txt',weights_hidden_hidden)\n",
    "np.savetxt('biases_hidden2.txt',biases_hidden2)\n",
    "np.savetxt('weights_output.txt',weights_hidden_output)\n",
    "np.savetxt('biases_output.txt',biases_output)\n"
   ]
  }
 ],
 "metadata": {
  "kernelspec": {
   "display_name": "base",
   "language": "python",
   "name": "python3"
  },
  "language_info": {
   "codemirror_mode": {
    "name": "ipython",
    "version": 3
   },
   "file_extension": ".py",
   "mimetype": "text/x-python",
   "name": "python",
   "nbconvert_exporter": "python",
   "pygments_lexer": "ipython3",
   "version": "3.9.13"
  },
  "orig_nbformat": 4
 },
 "nbformat": 4,
 "nbformat_minor": 2
}
