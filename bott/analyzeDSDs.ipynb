{
 "cells": [
  {
   "cell_type": "code",
   "execution_count": 1,
   "metadata": {},
   "outputs": [],
   "source": [
    "import glob\n",
    "import numpy as np\n",
    "import netCDF4 as nc\n",
    "fs=glob.glob(\"dsd_out/*.nc\")\n",
    "fs=sorted(fs)\n",
    "for f in fs[:1]:\n",
    "    with nc.Dataset(f) as ncf:\n",
    "        g=ncf[\"g\"][:]\n",
    "        lwc=ncf[\"g\"].lwc\n",
    "        nw=ncf[\"g\"].nw\n",
    "        dm0=ncf[\"g\"].dm0\n",
    "        dlnr=ncf[\"g\"].dlnr\n",
    "        dbins=ncf[\"radius\"][:]*2\n",
    "    dm=(g*dbins).sum(axis=1)/g.sum(axis=1)\n",
    "    "
   ]
  },
  {
   "cell_type": "code",
   "execution_count": 3,
   "metadata": {},
   "outputs": [
    {
     "name": "stdout",
     "output_type": "stream",
     "text": [
      "0.54824036 0.5370430393594837\n",
      "0.5162371347125827 0.5062814443664727\n"
     ]
    }
   ],
   "source": [
    "import matplotlib.pyplot as plt\n",
    "g1=g[0,:-1]\n",
    "dbinm=(dbins[:-1]+dbins[1:])/2\n",
    "print((g1*dbinm).sum()/g1.sum(),dm0)\n",
    "print(g[0,:].sum()*dlnr,lwc)"
   ]
  }
 ],
 "metadata": {
  "kernelspec": {
   "display_name": "base",
   "language": "python",
   "name": "python3"
  },
  "language_info": {
   "codemirror_mode": {
    "name": "ipython",
    "version": 3
   },
   "file_extension": ".py",
   "mimetype": "text/x-python",
   "name": "python",
   "nbconvert_exporter": "python",
   "pygments_lexer": "ipython3",
   "version": "3.9.13"
  }
 },
 "nbformat": 4,
 "nbformat_minor": 2
}
