{
 "cells": [
  {
   "cell_type": "code",
   "execution_count": 49,
   "metadata": {},
   "outputs": [
    {
     "name": "stdout",
     "output_type": "stream",
     "text": [
      "800\n",
      "860\n",
      "926\n",
      "998\n",
      "1090\n",
      "1230\n",
      "1292\n",
      "1357\n",
      "1452\n",
      "1477\n",
      "1580\n",
      "1676\n",
      "1722\n",
      "1808\n"
     ]
    }
   ],
   "source": [
    "import netCDF4 as nc\n",
    "import numpy as np\n",
    "def readCM1(fname):\n",
    "    with nc.Dataset(fname) as f:\n",
    "        dbz=f['dbz'][:,:,:,:]\n",
    "        dbz=np.ma.array(dbz,mask=dbz<10)\n",
    "        qr=f['qr'][:,:,:,:]\n",
    "        qs=f['qs'][:,:,:,:]\n",
    "        qg=f['qg'][:,:,:,:]\n",
    "        qc=f['qc'][:,:,:,:]\n",
    "        qv=f['qv'][:,:,:,:]\n",
    "        T=f['th'][:,:,:,:]\n",
    "        press=f['prs'][:,:,:,:]\n",
    "        ncr=f['ncr'][:,:,:,:]\n",
    "        ncs=f['ncs'][:,:,:,:]\n",
    "        ncg=f['ncg'][:,:,:,:]\n",
    "    return dbz,qr,qs,qg,qc,qv,T,press,ncr,ncs,ncg\n",
    "\n",
    "def readObs(fname):\n",
    "    with nc.Dataset(fname) as f:\n",
    "        zKa=f['zKu'][:,:,:]\n",
    "        zKu=f['zKa'][:,:,:]\n",
    "        piaKu=f['piaKu'][:,:]\n",
    "        piaKa=f['piaKa'][:,:]\n",
    "    return zKa,zKu,piaKu,piaKa\n",
    "ntot=0\n",
    "x1_L=[]\n",
    "x2_L=[]\n",
    "y_L=[]\n",
    "for it in range(20,34):\n",
    "    fname1=\"cm1out/cm1out_0000%2.2i.nc\"%it\n",
    "    fname2=\"cm1out/simObs_%4.4i.nc\"%it\n",
    "    dbz,qr,qs,qg,qc,qv,T,press,ncr,ncs,ncg=readCM1(fname1)\n",
    "    rho=press/(287*T)\n",
    "    zKa,zKu,piaKu,piaKa=readObs(fname2)\n",
    "    a=np.nonzero(piaKu>1)\n",
    "    print(len(a[0]))\n",
    "    ntot+=len(a[0])\n",
    "    nz,ny,nx=zKa.shape\n",
    "    for i1,j1 in zip(a[0],a[1]):\n",
    "        if i1>2 and i1<ny-3 and j1>2 and j1<nx-3:\n",
    "            zKu1=np.log10((10**(0.1*zKu[:,i1-2:i1+3,j1-2:j1+3])).mean(axis=(1,2))+1e-9)*10\n",
    "            zKa1=np.log10((10**(0.1*zKa[:,i1-2:i1+3,j1-2:j1+3])).mean(axis=(1,2))+1e-9)*10\n",
    "            piaKa1=np.log10((10**(-0.1*piaKa[i1-2:i1+3,j1-2:j1+3])).mean())*(-10)\n",
    "            piaKu1=np.log10((10**(-0.1*piaKu[i1-2:i1+3,j1-2:j1+3])).mean())*(-10)\n",
    "            x1_L.append(np.array([zKu1[::-1],zKa1[::-1]]).T)\n",
    "            x2_L.append([piaKu1,piaKa1])\n",
    "            x=np.concatenate((zKu1[::-1],zKa1[::-1],[piaKu1],[piaKa1]))\n",
    "            qtot=(qr[0,:,i1-2:i1+3,j1-2:j1+3]+qs[0,:,i1-2:i1+3,j1-2:j1+3]+qg[0,:,i1-2:i1+3,j1-2:j1+3]).mean(axis=(1,2))\n",
    "            pwc_tot=qtot*rho[0,:,i1,j1]*1e3\n",
    "            y_L.append(pwc_tot)\n",
    "            #break\n",
    "    #break"
   ]
  },
  {
   "cell_type": "code",
   "execution_count": 50,
   "metadata": {},
   "outputs": [
    {
     "name": "stdout",
     "output_type": "stream",
     "text": [
      "(16741, 80, 2)\n",
      "(16741, 2)\n",
      "1.287805715335658 6.9345390629614725\n"
     ]
    }
   ],
   "source": [
    "print(np.array(x1_L).shape)\n",
    "print(np.array(x2_L).shape)\n",
    "print(piaKu1,piaKa1)\n",
    "import xarray as xr\n",
    "x1=xr.DataArray(np.array(x1_L),dims=['ntot','nlev','nband'])\n",
    "x2=xr.DataArray(np.array(x2_L),dims=['ntot','nband'])\n",
    "y=xr.DataArray(np.array(y_L),dims=['ntot','nlev'])\n",
    "ds=xr.Dataset({'x1':x1,'x2':x2,'y':y})\n",
    "ds.to_netcdf('training_data_CM1.nc')"
   ]
  }
 ],
 "metadata": {
  "kernelspec": {
   "display_name": "base",
   "language": "python",
   "name": "python3"
  },
  "language_info": {
   "codemirror_mode": {
    "name": "ipython",
    "version": 3
   },
   "file_extension": ".py",
   "mimetype": "text/x-python",
   "name": "python",
   "nbconvert_exporter": "python",
   "pygments_lexer": "ipython3",
   "version": "3.9.13"
  },
  "orig_nbformat": 4
 },
 "nbformat": 4,
 "nbformat_minor": 2
}
